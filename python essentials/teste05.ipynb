{
 "cells": [
  {
   "cell_type": "code",
   "execution_count": 7,
   "metadata": {},
   "outputs": [],
   "source": [
    "class Class:\n",
    "    def __init__(self):\n",
    "        pass\n",
    "    \n",
    "object = Class()"
   ]
  },
  {
   "cell_type": "code",
   "execution_count": 9,
   "metadata": {},
   "outputs": [
    {
     "ename": "NameError",
     "evalue": "name 'O' is not defined",
     "output_type": "error",
     "traceback": [
      "\u001b[1;31m---------------------------------------------------------------------------\u001b[0m",
      "\u001b[1;31mNameError\u001b[0m                                 Traceback (most recent call last)",
      "Cell \u001b[1;32mIn[9], line 13\u001b[0m\n\u001b[0;32m     11\u001b[0m     \u001b[38;5;28;01mpass\u001b[39;00m\n\u001b[0;32m     12\u001b[0m o \u001b[38;5;241m=\u001b[39m C()\n\u001b[1;32m---> 13\u001b[0m \u001b[38;5;28mprint\u001b[39m(\u001b[43mO\u001b[49m)\n",
      "\u001b[1;31mNameError\u001b[0m: name 'O' is not defined"
     ]
    }
   ],
   "source": [
    "class A:\n",
    "    def __str__(self):\n",
    "        return 'a'\n",
    "    \n",
    "class B:\n",
    "    def __str__(self):\n",
    "        return 'b'\n",
    "    \n",
    "    \n",
    "class C(A, B):\n",
    "    pass\n",
    "o = C()\n",
    "print(O)\n",
    "    "
   ]
  }
 ],
 "metadata": {
  "kernelspec": {
   "display_name": "Python 3",
   "language": "python",
   "name": "python3"
  },
  "language_info": {
   "codemirror_mode": {
    "name": "ipython",
    "version": 3
   },
   "file_extension": ".py",
   "mimetype": "text/x-python",
   "name": "python",
   "nbconvert_exporter": "python",
   "pygments_lexer": "ipython3",
   "version": "3.12.1"
  }
 },
 "nbformat": 4,
 "nbformat_minor": 2
}
