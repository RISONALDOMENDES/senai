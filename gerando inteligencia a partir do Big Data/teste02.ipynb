{
 "cells": [
  {
   "cell_type": "markdown",
   "metadata": {},
   "source": [
    "definindo funcoes para a calculadora"
   ]
  },
  {
   "cell_type": "code",
   "execution_count": 4,
   "metadata": {},
   "outputs": [],
   "source": [
    "def adicao(num1, num2):\n",
    "    return num1 + num2\n",
    "\n",
    "def subtracao(num1, num2):\n",
    "    return num1 - num2\n",
    "\n",
    "def multiplicacao(num1, num2):\n",
    "    return num1 * num2\n",
    "\n",
    "def divisao(num1, num2):\n",
    "    return num1 / num2\n"
   ]
  },
  {
   "cell_type": "code",
   "execution_count": 6,
   "metadata": {},
   "outputs": [
    {
     "name": "stdout",
     "output_type": "stream",
     "text": [
      "O resutado da multiplicação de 3 por 5 é 15.0\n"
     ]
    }
   ],
   "source": [
    "operacao = \" \"\n",
    "\n",
    "while (operacao != 'Adição') and (operacao != 'Subtração') and (operacao != 'Multiplicação') and (operacao!= 'Divisão'):\n",
    "    operacao = input('Digite qual a operação que deseja realizar: ')\n",
    "    if operacao == 'Adição':\n",
    "        numero1 = input('Digite o primeiro número: ')\n",
    "        numero2 = input('Digite o segundo número: ')\n",
    "        print('O resutado da adição de ' + numero1 +' com ' + numero2 + ' é ' + str(adicao(float(numero1), float(numero2))))\n",
    "        \n",
    "    elif operacao =='Subtração':\n",
    "        numero1 = input('Digite o primeiro número: ')\n",
    "        numero2 = input('Digite o segundo número: ')\n",
    "        print('O resutado da subtração de ' + numero1 +' por ' + numero2 + ' é ' + str(subtracao(float(numero1), float(numero2))))\n",
    "        \n",
    "    elif operacao == 'Multiplicação':\n",
    "        numero1 = input('Digite o primeiro número: ')\n",
    "        numero2 = input('Digite o segundo número: ')\n",
    "        print('O resutado da multiplicação de ' + numero1 +' por ' + numero2 + ' é ' + str(multiplicacao(float(numero1), float(numero2))))\n",
    "        \n",
    "    elif operacao == \"Divisão\":\n",
    "        numero1 = input('Digite o primeiro número: ')\n",
    "        numero2 = input('Digite o segundo número: ')\n",
    "        print('O resutado da divisão de ' + numero1 +' por ' + numero2 + ' é ' + str(divisao(float(numero1), float(numero2))))\n",
    "        \n",
    "    else:\n",
    "        print('Essa não é uma operação válida. Tente novamente.')"
   ]
  }
 ],
 "metadata": {
  "kernelspec": {
   "display_name": "Python 3",
   "language": "python",
   "name": "python3"
  },
  "language_info": {
   "codemirror_mode": {
    "name": "ipython",
    "version": 3
   },
   "file_extension": ".py",
   "mimetype": "text/x-python",
   "name": "python",
   "nbconvert_exporter": "python",
   "pygments_lexer": "ipython3",
   "version": "3.12.1"
  }
 },
 "nbformat": 4,
 "nbformat_minor": 2
}
